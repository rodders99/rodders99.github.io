{
 "cells": [
  {
   "cell_type": "code",
   "execution_count": 2,
   "id": "fc092717-4853-4130-9f11-66abbc30456a",
   "metadata": {},
   "outputs": [],
   "source": [
    "import pandas as pd\n",
    "\n",
    "data = {\n",
    "    'year': ['2022', '2024', '2023', '2024', '2023'],\n",
    "    'data': [10, 20, 30, 40, 50]\n",
    "}\n",
    "\n",
    "df = pd.DataFrame(data)"
   ]
  },
  {
   "cell_type": "code",
   "execution_count": 13,
   "id": "c5dfbac0-b271-4990-8f46-18559636ceb3",
   "metadata": {},
   "outputs": [],
   "source": [
    "current_year = df['year'].astype(int).max()-1"
   ]
  },
  {
   "cell_type": "code",
   "execution_count": 14,
   "id": "8da93253-627e-4ab8-9322-b94353a91b2f",
   "metadata": {},
   "outputs": [
    {
     "data": {
      "text/plain": [
       "2023"
      ]
     },
     "execution_count": 14,
     "metadata": {},
     "output_type": "execute_result"
    }
   ],
   "source": [
    "current_year"
   ]
  },
  {
   "cell_type": "code",
   "execution_count": 11,
   "id": "00caeb86-fcef-48dc-8e62-2ac8a0bfd318",
   "metadata": {},
   "outputs": [],
   "source": [
    "current_year -= 1"
   ]
  },
  {
   "cell_type": "code",
   "execution_count": 12,
   "id": "50aaf163-0d3c-4843-af4b-1abe5afcd9e3",
   "metadata": {},
   "outputs": [
    {
     "data": {
      "text/plain": [
       "2023"
      ]
     },
     "execution_count": 12,
     "metadata": {},
     "output_type": "execute_result"
    }
   ],
   "source": [
    "current_year"
   ]
  }
 ],
 "metadata": {
  "kernelspec": {
   "display_name": "Python 3 (ipykernel)",
   "language": "python",
   "name": "python3"
  },
  "language_info": {
   "codemirror_mode": {
    "name": "ipython",
    "version": 3
   },
   "file_extension": ".py",
   "mimetype": "text/x-python",
   "name": "python",
   "nbconvert_exporter": "python",
   "pygments_lexer": "ipython3",
   "version": "3.11.2"
  }
 },
 "nbformat": 4,
 "nbformat_minor": 5
}
