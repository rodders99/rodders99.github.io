{
 "cells": [
  {
   "cell_type": "code",
   "execution_count": 4,
   "id": "3ca91fdc-d554-4dd0-948d-bd00f6920732",
   "metadata": {},
   "outputs": [
    {
     "data": {
      "text/html": [
       "<div>\n",
       "<style scoped>\n",
       "    .dataframe tbody tr th:only-of-type {\n",
       "        vertical-align: middle;\n",
       "    }\n",
       "\n",
       "    .dataframe tbody tr th {\n",
       "        vertical-align: top;\n",
       "    }\n",
       "\n",
       "    .dataframe thead th {\n",
       "        text-align: right;\n",
       "    }\n",
       "</style>\n",
       "<table border=\"1\" class=\"dataframe\">\n",
       "  <thead>\n",
       "    <tr style=\"text-align: right;\">\n",
       "      <th></th>\n",
       "      <th>url</th>\n",
       "      <th>Title</th>\n",
       "    </tr>\n",
       "  </thead>\n",
       "  <tbody>\n",
       "    <tr>\n",
       "      <th>0</th>\n",
       "      <td>https://www.food.gov.uk/news-alerts/alert/fsa-...</td>\n",
       "      <td>Title 1</td>\n",
       "    </tr>\n",
       "    <tr>\n",
       "      <th>1</th>\n",
       "      <td>https://www.food.gov.uk/news-alerts/alert/fsa-...</td>\n",
       "      <td>Title 2</td>\n",
       "    </tr>\n",
       "    <tr>\n",
       "      <th>2</th>\n",
       "      <td>https://www.food.gov.uk/news-alerts/alert/fsa-...</td>\n",
       "      <td>Title 3</td>\n",
       "    </tr>\n",
       "  </tbody>\n",
       "</table>\n",
       "</div>"
      ],
      "text/plain": [
       "                                                 url    Title\n",
       "0  https://www.food.gov.uk/news-alerts/alert/fsa-...  Title 1\n",
       "1  https://www.food.gov.uk/news-alerts/alert/fsa-...  Title 2\n",
       "2  https://www.food.gov.uk/news-alerts/alert/fsa-...  Title 3"
      ]
     },
     "execution_count": 4,
     "metadata": {},
     "output_type": "execute_result"
    }
   ],
   "source": [
    "import pandas as pd\n",
    "\n",
    "data = {'url': ['https://www.food.gov.uk/news-alerts/alert/fsa-fafa-03-2024', 'https://www.food.gov.uk/news-alerts/alert/fsa-aa-37-2024', 'https://www.food.gov.uk/news-alerts/alert/fsa-aa-36-2024'], \n",
    "        'Title': [\"Title 1\", \"Title 2\", \"Title 3\"]}\n",
    "\n",
    "df = pd.DataFrame(data)\n",
    "df"
   ]
  }
 ],
 "metadata": {
  "kernelspec": {
   "display_name": "Python 3 (ipykernel)",
   "language": "python",
   "name": "python3"
  },
  "language_info": {
   "codemirror_mode": {
    "name": "ipython",
    "version": 3
   },
   "file_extension": ".py",
   "mimetype": "text/x-python",
   "name": "python",
   "nbconvert_exporter": "python",
   "pygments_lexer": "ipython3",
   "version": "3.11.2"
  }
 },
 "nbformat": 4,
 "nbformat_minor": 5
}
